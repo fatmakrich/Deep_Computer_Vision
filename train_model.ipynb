{
 "cells": [
  {
   "cell_type": "code",
   "execution_count": 1,
   "metadata": {},
   "outputs": [],
   "source": [
    "import torch\n",
    "import torchvision\n",
    "from torch.utils.data import DataLoader\n",
    "from torchvision import datasets, transforms\n",
    "from torch import nn, optim\n",
    "from sklearn.metrics import precision_score, recall_score\n",
    "from tqdm import tqdm\n",
    "import os"
   ]
  },
  {
   "cell_type": "code",
   "execution_count": 3,
   "metadata": {},
   "outputs": [
    {
     "name": "stdout",
     "output_type": "stream",
     "text": [
      "Number of training samples: 8010\n",
      "Number of testing samples: 2450\n"
     ]
    }
   ],
   "source": [
    "# 1. Set the device (GPU/CPU)\n",
    "device = torch.device('cuda' if torch.cuda.is_available() else 'cpu')\n",
    "\n",
    "# 2. Define data transformations (including augmentation)\n",
    "transform = transforms.Compose([\n",
    "    transforms.Resize((224, 224)),  # Resize images to 224x224\n",
    "    transforms.RandomHorizontalFlip(),  # Augment with random horizontal flip\n",
    "    transforms.RandomRotation(30),      # Augment with random rotation (30 degrees)\n",
    "    transforms.ToTensor(),             # Convert images to tensor\n",
    "    transforms.Normalize(mean=[0.485, 0.456, 0.406], std=[0.229, 0.224, 0.225])  # Normalize using ImageNet stats\n",
    "])\n",
    "\n",
    "# 3. Define the dataset directories\n",
    "train_dir = \"./dataset_train/\"  # Path to the training dataset\n",
    "test_dir = \"./dataset_test/\"    # Path to the testing dataset\n",
    "\n",
    "# 4. Load the training and testing datasets using ImageFolder\n",
    "train_dataset = datasets.ImageFolder(root=os.path.join(train_dir, ''), transform=transform)\n",
    "test_dataset = datasets.ImageFolder(root=os.path.join(test_dir, ''), transform=transform)\n",
    "\n",
    "# 5. Define DataLoader for training and testing with batching and shuffling for training\n",
    "train_loader = DataLoader(train_dataset, batch_size=16, shuffle=True, num_workers=4, pin_memory=True)\n",
    "test_loader = DataLoader(test_dataset, batch_size=16, shuffle=False, num_workers=4, pin_memory=True)\n",
    "\n",
    "# 6. Print the length of the datasets\n",
    "print(f\"Number of training samples: {len(train_dataset)}\")\n",
    "print(f\"Number of testing samples: {len(test_dataset)}\")\n"
   ]
  },
  {
   "cell_type": "code",
   "execution_count": 4,
   "metadata": {},
   "outputs": [
    {
     "name": "stderr",
     "output_type": "stream",
     "text": [
      "c:\\Users\\MSI\\anaconda3\\Lib\\site-packages\\torchvision\\models\\_utils.py:208: UserWarning: The parameter 'pretrained' is deprecated since 0.13 and may be removed in the future, please use 'weights' instead.\n",
      "  warnings.warn(\n",
      "c:\\Users\\MSI\\anaconda3\\Lib\\site-packages\\torchvision\\models\\_utils.py:223: UserWarning: Arguments other than a weight enum or `None` for 'weights' are deprecated since 0.13 and may be removed in the future. The current behavior is equivalent to passing `weights=ResNet50_Weights.IMAGENET1K_V1`. You can also use `weights=ResNet50_Weights.DEFAULT` to get the most up-to-date weights.\n",
      "  warnings.warn(msg)\n",
      "Epoch 1/7: 100%|██████████████████████████████████████████████████| 501/501 [04:00<00:00,  2.08it/s]\n"
     ]
    },
    {
     "name": "stdout",
     "output_type": "stream",
     "text": [
      "Epoch 1/7, Loss: 0.3032\n",
      "Precision (FAKE class): 0.8986\n",
      "Recall (FAKE class): 0.7848\n"
     ]
    },
    {
     "name": "stderr",
     "output_type": "stream",
     "text": [
      "Epoch 2/7: 100%|██████████████████████████████████████████████████| 501/501 [04:02<00:00,  2.06it/s]\n"
     ]
    },
    {
     "name": "stdout",
     "output_type": "stream",
     "text": [
      "Epoch 2/7, Loss: 0.2099\n",
      "Precision (FAKE class): 0.9359\n",
      "Recall (FAKE class): 0.8646\n"
     ]
    },
    {
     "name": "stderr",
     "output_type": "stream",
     "text": [
      "Epoch 3/7: 100%|██████████████████████████████████████████████████| 501/501 [03:57<00:00,  2.11it/s]\n"
     ]
    },
    {
     "name": "stdout",
     "output_type": "stream",
     "text": [
      "Epoch 3/7, Loss: 0.1782\n",
      "Precision (FAKE class): 0.9495\n",
      "Recall (FAKE class): 0.8906\n"
     ]
    },
    {
     "name": "stderr",
     "output_type": "stream",
     "text": [
      "Epoch 4/7: 100%|██████████████████████████████████████████████████| 501/501 [03:59<00:00,  2.09it/s]\n"
     ]
    },
    {
     "name": "stdout",
     "output_type": "stream",
     "text": [
      "Epoch 4/7, Loss: 0.1566\n",
      "Precision (FAKE class): 0.9597\n",
      "Recall (FAKE class): 0.9038\n"
     ]
    },
    {
     "name": "stderr",
     "output_type": "stream",
     "text": [
      "Epoch 5/7: 100%|██████████████████████████████████████████████████| 501/501 [03:54<00:00,  2.13it/s]\n"
     ]
    },
    {
     "name": "stdout",
     "output_type": "stream",
     "text": [
      "Epoch 5/7, Loss: 0.1523\n",
      "Precision (FAKE class): 0.9555\n",
      "Recall (FAKE class): 0.9129\n"
     ]
    },
    {
     "name": "stderr",
     "output_type": "stream",
     "text": [
      "Epoch 6/7: 100%|██████████████████████████████████████████████████| 501/501 [03:54<00:00,  2.14it/s]\n"
     ]
    },
    {
     "name": "stdout",
     "output_type": "stream",
     "text": [
      "Epoch 6/7, Loss: 0.1459\n",
      "Precision (FAKE class): 0.9602\n",
      "Recall (FAKE class): 0.9152\n"
     ]
    },
    {
     "name": "stderr",
     "output_type": "stream",
     "text": [
      "Epoch 7/7: 100%|██████████████████████████████████████████████████| 501/501 [03:54<00:00,  2.14it/s]"
     ]
    },
    {
     "name": "stdout",
     "output_type": "stream",
     "text": [
      "Epoch 7/7, Loss: 0.1290\n",
      "Precision (FAKE class): 0.9658\n",
      "Recall (FAKE class): 0.9228\n"
     ]
    },
    {
     "name": "stderr",
     "output_type": "stream",
     "text": [
      "\n"
     ]
    }
   ],
   "source": [
    "# 5. Load the pre-trained ResNet50 model and modify it for binary classification\n",
    "model = torchvision.models.resnet50(pretrained=True)  # Load pre-trained ResNet50\n",
    "model.fc = nn.Linear(model.fc.in_features, 2)  # Modify the final layer for binary classification (2 classes: REAL, FAKE)\n",
    "\n",
    "# Move the model to the appropriate device (GPU/CPU)\n",
    "model.to(device)\n",
    "\n",
    "# 6. Define the optimizer and loss function\n",
    "optimizer = optim.Adam(model.parameters(), lr=0.0001)\n",
    "class_weights = torch.tensor([2.0, 1.0]).to(device)  # Assign higher weight to FAKE\n",
    "criterion = nn.CrossEntropyLoss(weight=class_weights)\n",
    "\n",
    "\n",
    "# 7. Training loop (with Precision and Recall calculation at each epoch)\n",
    "num_epochs = 7\n",
    "for epoch in range(num_epochs):\n",
    "    model.train()  # Set the model to training mode\n",
    "    running_loss = 0.0\n",
    "    all_preds = []\n",
    "    all_labels = []\n",
    "\n",
    "    # Loop through the training data\n",
    "    for inputs, labels in tqdm(train_loader, desc=f\"Epoch {epoch+1}/{num_epochs}\", ncols=100):\n",
    "        inputs, labels = inputs.to(device), labels.to(device)\n",
    "\n",
    "        # Zero the gradients\n",
    "        optimizer.zero_grad()\n",
    "\n",
    "        # Forward pass\n",
    "        outputs = model(inputs)\n",
    "\n",
    "        # Calculate the loss\n",
    "        loss = criterion(outputs, labels)\n",
    "\n",
    "        # Backward pass\n",
    "        loss.backward()\n",
    "\n",
    "        # Update the weights\n",
    "        optimizer.step()\n",
    "\n",
    "        running_loss += loss.item()\n",
    "\n",
    "        # Get predictions and store them\n",
    "        _, predicted = torch.max(outputs, 1)\n",
    "        all_preds.extend(predicted.cpu().numpy())  # Convert to numpy for scikit-learn\n",
    "        all_labels.extend(labels.cpu().numpy())\n",
    "\n",
    "    # Calculate precision and recall after each epoch\n",
    "    precision = precision_score(all_labels, all_preds, average='binary', pos_label=1)  # FAKE class\n",
    "    recall = recall_score(all_labels, all_preds, average='binary', pos_label=1)  # FAKE class\n",
    "\n",
    "    # Print the loss and metrics for the epoch\n",
    "    print(f\"Epoch {epoch+1}/{num_epochs}, Loss: {running_loss / len(train_loader):.4f}\")\n",
    "    print(f\"Precision (FAKE class): {precision:.4f}\")\n",
    "    print(f\"Recall (FAKE class): {recall:.4f}\")\n"
   ]
  },
  {
   "cell_type": "code",
   "execution_count": 5,
   "metadata": {},
   "outputs": [
    {
     "ename": "NameError",
     "evalue": "name 'image' is not defined",
     "output_type": "error",
     "traceback": [
      "\u001b[1;31m---------------------------------------------------------------------------\u001b[0m",
      "\u001b[1;31mNameError\u001b[0m                                 Traceback (most recent call last)",
      "Cell \u001b[1;32mIn[5], line 3\u001b[0m\n\u001b[0;32m      1\u001b[0m model\u001b[38;5;241m.\u001b[39meval()  \u001b[38;5;66;03m# Set to evaluation mode\u001b[39;00m\n\u001b[0;32m      2\u001b[0m \u001b[38;5;28;01mwith\u001b[39;00m torch\u001b[38;5;241m.\u001b[39mno_grad():  \u001b[38;5;66;03m# No gradient calculation during inference\u001b[39;00m\n\u001b[1;32m----> 3\u001b[0m     outputs \u001b[38;5;241m=\u001b[39m model(image)  \u001b[38;5;66;03m# Get the model's prediction\u001b[39;00m\n\u001b[0;32m      5\u001b[0m     softmax \u001b[38;5;241m=\u001b[39m torch\u001b[38;5;241m.\u001b[39mnn\u001b[38;5;241m.\u001b[39mSoftmax(dim\u001b[38;5;241m=\u001b[39m\u001b[38;5;241m1\u001b[39m)\n\u001b[0;32m      6\u001b[0m     probabilities \u001b[38;5;241m=\u001b[39m softmax(outputs)\n",
      "\u001b[1;31mNameError\u001b[0m: name 'image' is not defined"
     ]
    }
   ],
   "source": [
    "model.eval()  # Set to evaluation mode\n",
    "with torch.no_grad():  # No gradient calculation during inference\n",
    "    outputs = model(image)  # Get the model's prediction\n",
    "    \n",
    "    softmax = torch.nn.Softmax(dim=1)\n",
    "    probabilities = softmax(outputs)\n",
    "    \n",
    "    # Get the class with the highest probability\n",
    "    _, predicted = torch.max(probabilities, 1)\n",
    "\n",
    "prediction = 'REAL' if predicted.item() == 0 else 'FAKE'\n",
    "print(f\"Prediction: {prediction}\")\n"
   ]
  },
  {
   "cell_type": "code",
   "execution_count": 6,
   "metadata": {},
   "outputs": [
    {
     "name": "stdout",
     "output_type": "stream",
     "text": [
      "Model saved!\n"
     ]
    }
   ],
   "source": [
    "# 9. Save the trained model\n",
    "torch.save(model.state_dict(), 'model/trained_resnet50.pth')\n",
    "print(\"Model saved!\")"
   ]
  },
  {
   "cell_type": "code",
   "execution_count": null,
   "metadata": {},
   "outputs": [],
   "source": []
  }
 ],
 "metadata": {
  "kernelspec": {
   "display_name": "base",
   "language": "python",
   "name": "python3"
  },
  "language_info": {
   "codemirror_mode": {
    "name": "ipython",
    "version": 3
   },
   "file_extension": ".py",
   "mimetype": "text/x-python",
   "name": "python",
   "nbconvert_exporter": "python",
   "pygments_lexer": "ipython3",
   "version": "3.12.4"
  }
 },
 "nbformat": 4,
 "nbformat_minor": 2
}
