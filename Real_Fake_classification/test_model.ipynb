{
 "cells": [
  {
   "cell_type": "code",
   "execution_count": 1,
   "metadata": {},
   "outputs": [],
   "source": [
    "import torch\n",
    "import torchvision\n",
    "from torch.utils.data import DataLoader\n",
    "from torchvision import datasets, transforms\n",
    "from torch import nn, optim\n",
    "from sklearn.metrics import precision_score, recall_score\n",
    "from tqdm import tqdm\n",
    "import os"
   ]
  },
  {
   "cell_type": "code",
   "execution_count": 2,
   "metadata": {},
   "outputs": [],
   "source": [
    "\n",
    "# 1. Set the device (GPU/CPU)\n",
    "device = torch.device('cuda' if torch.cuda.is_available() else 'cpu')\n",
    "\n",
    "transform = transforms.Compose([\n",
    "    transforms.Resize((224, 224)),\n",
    "    transforms.RandomHorizontalFlip(),  # Augment with random horizontal flip\n",
    "    transforms.RandomRotation(30),      # Augment with random rotation\n",
    "    transforms.ToTensor(),\n",
    "    transforms.Normalize(mean=[0.485, 0.456, 0.406], std=[0.229, 0.224, 0.225])\n",
    "])\n"
   ]
  },
  {
   "cell_type": "code",
   "execution_count": 4,
   "metadata": {},
   "outputs": [
    {
     "ename": "NameError",
     "evalue": "name 'model' is not defined",
     "output_type": "error",
     "traceback": [
      "\u001b[1;31m---------------------------------------------------------------------------\u001b[0m",
      "\u001b[1;31mNameError\u001b[0m                                 Traceback (most recent call last)",
      "Cell \u001b[1;32mIn[4], line 7\u001b[0m\n\u001b[0;32m      4\u001b[0m \u001b[38;5;28;01mimport\u001b[39;00m \u001b[38;5;21;01mmatplotlib\u001b[39;00m\u001b[38;5;21;01m.\u001b[39;00m\u001b[38;5;21;01mpyplot\u001b[39;00m \u001b[38;5;28;01mas\u001b[39;00m \u001b[38;5;21;01mplt\u001b[39;00m\n\u001b[0;32m      6\u001b[0m \u001b[38;5;66;03m# 1. Load the trained model weights\u001b[39;00m\n\u001b[1;32m----> 7\u001b[0m model\u001b[38;5;241m.\u001b[39mload_state_dict(torch\u001b[38;5;241m.\u001b[39mload(\u001b[38;5;124m'\u001b[39m\u001b[38;5;124mmodel/trained_resnet50.pth\u001b[39m\u001b[38;5;124m'\u001b[39m))  \u001b[38;5;66;03m# Load model weights from the saved file\u001b[39;00m\n\u001b[0;32m      8\u001b[0m model\u001b[38;5;241m.\u001b[39mto(device)  \u001b[38;5;66;03m# Move model to GPU/CPU\u001b[39;00m\n\u001b[0;32m     10\u001b[0m \u001b[38;5;66;03m# 2. Define image transformation pipeline for preprocessing\u001b[39;00m\n",
      "\u001b[1;31mNameError\u001b[0m: name 'model' is not defined"
     ]
    }
   ],
   "source": [
    "import torch\n",
    "import torchvision.transforms as transforms\n",
    "from PIL import Image\n",
    "import matplotlib.pyplot as plt\n",
    "\n",
    "# 1. Load the trained model weights\n",
    "model.load_state_dict(torch.load('model/trained_resnet50.pth'))  # Load model weights from the saved file\n",
    "model.to(device)  # Move model to GPU/CPU\n",
    "\n",
    "# 2. Define image transformation pipeline for preprocessing\n",
    "transform = transforms.Compose([\n",
    "    transforms.Resize((224, 224)),  # Resize image to fit model input size\n",
    "    transforms.ToTensor(),  # Convert image to tensor\n",
    "    transforms.Normalize(mean=[0.485, 0.456, 0.406], std=[0.229, 0.224, 0.225])  # Normalize image based on ImageNet stats\n",
    "])\n",
    "\n",
    "# 3. Function to process the image for prediction\n",
    "def process_image(image_path):\n",
    "    image = Image.open(image_path).convert('RGB')  # Open image and convert to RGB (if not already)\n",
    "    image = transform(image).unsqueeze(0)  # Apply transformations and add a batch dimension (unsqueeze(0))\n",
    "    return image\n",
    "\n",
    "# 4. Function to make predictions for the image\n",
    "def predict(image_path, model, device):\n",
    "    image = process_image(image_path)  # Process the image\n",
    "    image = image.to(device)  # Move image to the correct device (GPU/CPU)\n",
    "    \n",
    "    model.eval()  # Set model to evaluation mode (important for inference)\n",
    "    with torch.no_grad():  # No gradients required during inference\n",
    "        outputs = model(image)  # Get model predictions\n",
    "        _, predicted = torch.max(outputs, 1)  # Get the class with the highest score\n",
    "        \n",
    "    # Return class label (\"REAL\" or \"FAKE\")\n",
    "    return 'REAL' if predicted.item() == 0 else 'FAKE'\n",
    "\n",
    "# 5. Function to display the image and prediction result\n",
    "def display_image(image_path, prediction):\n",
    "    image = Image.open(image_path)  # Open the image again for displaying\n",
    "    plt.imshow(image)  # Display the image\n",
    "    plt.axis('off')  # Hide axis\n",
    "    plt.title(f\"Prediction: {prediction}\")  # Set title to prediction result\n",
    "    plt.show()  # Show the image with prediction\n",
    "\n",
    "# 6. Main code to test the model on a new image\n",
    "def test_model(image_path):\n",
    "    # Get prediction from the model\n",
    "    prediction = predict(image_path, model, device)\n",
    "    \n",
    "    # Display the image and prediction result\n",
    "    display_image(image_path, prediction)\n"
   ]
  },
  {
   "cell_type": "code",
   "execution_count": null,
   "metadata": {},
   "outputs": [],
   "source": [
    "# 8. Example: Test on a new image\n",
    "image_path = 'test_path.jpg'  # Replace with the path to the image you want to test\n",
    "test_model(image_path)"
   ]
  }
 ],
 "metadata": {
  "kernelspec": {
   "display_name": "base",
   "language": "python",
   "name": "python3"
  },
  "language_info": {
   "codemirror_mode": {
    "name": "ipython",
    "version": 3
   },
   "file_extension": ".py",
   "mimetype": "text/x-python",
   "name": "python",
   "nbconvert_exporter": "python",
   "pygments_lexer": "ipython3",
   "version": "3.12.4"
  }
 },
 "nbformat": 4,
 "nbformat_minor": 2
}
